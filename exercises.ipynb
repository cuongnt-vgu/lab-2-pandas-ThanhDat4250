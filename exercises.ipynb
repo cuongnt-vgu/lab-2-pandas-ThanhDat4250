{
 "cells": [
  {
   "cell_type": "code",
   "execution_count": 42,
   "metadata": {},
   "outputs": [
    {
     "name": "stderr",
     "output_type": "stream",
     "text": [
      "WARNING:root:Ignoring repeated attempt to bind to globals\n"
     ]
    },
    {
     "name": "stdout",
     "output_type": "stream",
     "text": [
      "Setup Complete\n"
     ]
    }
   ],
   "source": [
    "from learntools.core import binder\n",
    "binder.bind(globals())\n",
    "from learntools_ex import *\n",
    "print(\"Setup Complete\")\n",
    "\n",
    "import numpy as np, pandas as pd"
   ]
  },
  {
   "cell_type": "markdown",
   "metadata": {},
   "source": [
    "> **WARNING:** The tests will fail if you reorder the columns or rows for no reason.\n",
    "\n",
    "> **Note**: The dataset 3 is large enough to exceed the Github normal storage for repositories. You **should not push** the whole file and only use it locally. You can modify `.gitignore` to command git to ignore that file."
   ]
  },
  {
   "cell_type": "markdown",
   "metadata": {},
   "source": [
    "**ATTENTION:** _For questions which require you to have a pre-loaded dataset assigned to a variable, make sure to **not make any changes to that variable** either inside or outside of your solution functions. This could be done by **copying or cloning** the variable to another temporary variable which can be read or written as you like. For example, you have a variable `df` which is storing a dataset by running `df = pandas.read_csv(\"path/to/your/file.csv\")`, and a question asking you to \"multiply column A by 3\". One possible solution would be:_\n",
    "\n",
    "```python\n",
    "import pandas as pd\n",
    "\n",
    "df = pd.read_csv(\"path/to/your/file.csv\")\n",
    "\n",
    "def exercise_n(df) -> pd.DataFrame:\n",
    "    df['A'] = df['A'] * 3 #changes made directly to column A of the df variable\n",
    "    return df\n",
    "\n",
    "exn_sol = exercise_n(df)\n",
    "```\n",
    "\n",
    "_This will be fine if the dataset is only used for that single question. However, as Python treats the arguments of functions are passed by references if the arguments are objects, writing this kind of function would overwrite the data in your original `df`. To avoid this, you should always make a copy at the beginning of your function and manipulate that copy instead of the argument. It would look like this:_\n",
    "\n",
    "```python\n",
    "import pandas as pd\n",
    "\n",
    "df = pd.read_csv(\"path/to/your/file.csv\")\n",
    "\n",
    "def exercise_n(df) -> pd.DataFrame:\n",
    "    cloned_df = df.copy() #temporary variable for manipulations\n",
    "\n",
    "    cloned_df['A'] = cloned_df['A'] * 3 #note that the df argument is not used anywhere else except for the cloning step\n",
    "    return cloned_df\n",
    "\n",
    "exn_sol = exercise_n(df)\n",
    "```"
   ]
  },
  {
   "cell_type": "markdown",
   "metadata": {},
   "source": [
    "## Questions"
   ]
  },
  {
   "cell_type": "markdown",
   "metadata": {},
   "source": [
    "### Q1: Form a DataFrame with values and column names given below. Use the variable names as column names."
   ]
  },
  {
   "cell_type": "code",
   "execution_count": 43,
   "metadata": {},
   "outputs": [
    {
     "data": {
      "application/javascript": "parent.postMessage({\"jupyterEvent\": \"custom.exercise_interaction\", \"data\": {\"outcomeType\": 1, \"valueTowardsCompletion\": 0.05, \"interactionType\": 1, \"questionType\": 1, \"questionId\": \"1_Exercise1\", \"failureMessage\": \"\", \"exceptionClass\": \"\", \"trace\": \"\"}}, \"*\")",
      "text/plain": [
       "<IPython.core.display.Javascript object>"
      ]
     },
     "metadata": {},
     "output_type": "display_data"
    },
    {
     "data": {
      "text/markdown": [
       "<span style=\"color:#33cc33\">Correct</span>"
      ],
      "text/plain": [
       "Correct"
      ]
     },
     "metadata": {},
     "output_type": "display_data"
    }
   ],
   "source": [
    "A = [1, 2, 3, 4]\n",
    "B = [5, 6, 7, 8]\n",
    "\n",
    "def exercise_1(A, B) -> pd.DataFrame:\n",
    "    a = pd.DataFrame({'A': [1, 2, 3, 4], 'B': [5, 6, 7, 8]})\n",
    "    return a\n",
    "    return NotImplementedError\n",
    "\n",
    "ex1_sol = exercise_1(A, B)\n",
    "q1.check()"
   ]
  },
  {
   "cell_type": "markdown",
   "metadata": {},
   "source": [
    "### Q2: Form a DataFrame with the given Series. Use the variable names as column names."
   ]
  },
  {
   "cell_type": "code",
   "execution_count": 44,
   "metadata": {},
   "outputs": [
    {
     "data": {
      "application/javascript": "parent.postMessage({\"jupyterEvent\": \"custom.exercise_interaction\", \"data\": {\"outcomeType\": 1, \"valueTowardsCompletion\": 0.05, \"interactionType\": 1, \"questionType\": 1, \"questionId\": \"2_Exercise2\", \"failureMessage\": \"\", \"exceptionClass\": \"\", \"trace\": \"\"}}, \"*\")",
      "text/plain": [
       "<IPython.core.display.Javascript object>"
      ]
     },
     "metadata": {},
     "output_type": "display_data"
    },
    {
     "data": {
      "text/markdown": [
       "<span style=\"color:#33cc33\">Correct</span>"
      ],
      "text/plain": [
       "Correct"
      ]
     },
     "metadata": {},
     "output_type": "display_data"
    }
   ],
   "source": [
    "ser1 = pd.Series(list('iloveyou'))\n",
    "ser2 = pd.Series(range(8))\n",
    "\n",
    "def exercise_2(ser1, ser2) -> pd.DataFrame:\n",
    "    a = pd.DataFrame({'ser1': list('iloveyou'), 'ser2': range(8)})\n",
    "    return a\n",
    "    return NotImplementedError\n",
    "\n",
    "ex2_sol = exercise_2(ser1, ser2)\n",
    "q2.check()"
   ]
  },
  {
   "cell_type": "markdown",
   "metadata": {},
   "source": [
    "### Q3: How to get the items not common to both series A and series B? (Not in their intersection set)"
   ]
  },
  {
   "cell_type": "code",
   "execution_count": 45,
   "metadata": {},
   "outputs": [
    {
     "data": {
      "application/javascript": "parent.postMessage({\"jupyterEvent\": \"custom.exercise_interaction\", \"data\": {\"outcomeType\": 1, \"valueTowardsCompletion\": 0.05, \"interactionType\": 1, \"questionType\": 1, \"questionId\": \"3_Exercise3\", \"failureMessage\": \"\", \"exceptionClass\": \"\", \"trace\": \"\"}}, \"*\")",
      "text/plain": [
       "<IPython.core.display.Javascript object>"
      ]
     },
     "metadata": {},
     "output_type": "display_data"
    },
    {
     "data": {
      "text/markdown": [
       "<span style=\"color:#33cc33\">Correct</span>"
      ],
      "text/plain": [
       "Correct"
      ]
     },
     "metadata": {},
     "output_type": "display_data"
    }
   ],
   "source": [
    "A = pd.Series([14, 15, 16, 17, 18])\n",
    "B = pd.Series([11, 12, 13, 14, 15])\n",
    "\n",
    "def exercise_3(A, B) -> pd.Series:\n",
    "    set_A, set_B = set(A), set(B)\n",
    "    result = set(set_A.symmetric_difference(set_B))\n",
    "    return pd.Series(sorted(result))\n",
    "\n",
    "ex3_sol = exercise_3(A, B)\n",
    "q3.check()"
   ]
  },
  {
   "cell_type": "markdown",
   "metadata": {},
   "source": [
    "## Instructions for Dataset 1\n",
    "\n",
    "The `DataFrame` given below will be used for questions 4, 5 and 6."
   ]
  },
  {
   "cell_type": "code",
   "execution_count": 46,
   "metadata": {},
   "outputs": [],
   "source": [
    "df = pd.DataFrame({ \n",
    "    'ID': [10, np.nan, 20, 30, np.nan, 50, np.nan, \n",
    "           150, 200, 102, np.nan, 130], \n",
    "  \n",
    "    'Sale': [10, 20, np.nan, 11, 90, np.nan, \n",
    "             55, 14, np.nan, 25, 75, 35], \n",
    "  \n",
    "    'Date': ['2020-10-05', '2020-09-10', np.nan, \n",
    "             '2020-08-17', '2020-09-10', '2020-07-27', \n",
    "             '2020-09-10', '2020-10-10', '2020-10-10', \n",
    "             '2020-06-27', '2020-08-17', '2020-04-25'], \n",
    "})"
   ]
  },
  {
   "cell_type": "markdown",
   "metadata": {},
   "source": [
    "## Questions"
   ]
  },
  {
   "cell_type": "markdown",
   "metadata": {},
   "source": [
    "### Q4: Fill any NaN value in the column 'Sale' with 0. Return the filled column 'Sale' only."
   ]
  },
  {
   "cell_type": "code",
   "execution_count": 47,
   "metadata": {},
   "outputs": [
    {
     "data": {
      "application/javascript": "parent.postMessage({\"jupyterEvent\": \"custom.exercise_interaction\", \"data\": {\"outcomeType\": 1, \"valueTowardsCompletion\": 0.05, \"interactionType\": 1, \"questionType\": 1, \"questionId\": \"4_Exercise4\", \"failureMessage\": \"\", \"exceptionClass\": \"\", \"trace\": \"\"}}, \"*\")",
      "text/plain": [
       "<IPython.core.display.Javascript object>"
      ]
     },
     "metadata": {},
     "output_type": "display_data"
    },
    {
     "data": {
      "text/markdown": [
       "<span style=\"color:#33cc33\">Correct</span>"
      ],
      "text/plain": [
       "Correct"
      ]
     },
     "metadata": {},
     "output_type": "display_data"
    }
   ],
   "source": [
    "def exercise_4(df) -> pd.Series:\n",
    "    copy = df.copy()\n",
    "    a = copy['Sale'].fillna(0) \n",
    "    return a\n",
    "    return NotImplementedError\n",
    "\n",
    "ex4_sol = exercise_4(df)\n",
    "q4.check()"
   ]
  },
  {
   "cell_type": "markdown",
   "metadata": {},
   "source": [
    "### Q5: Fill any NaN value of the column \"Sale\" with the mean value of the column. Return the filled column 'Sale' only. Round your results to the nearest integer."
   ]
  },
  {
   "cell_type": "code",
   "execution_count": 48,
   "metadata": {},
   "outputs": [
    {
     "data": {
      "application/javascript": "parent.postMessage({\"jupyterEvent\": \"custom.exercise_interaction\", \"data\": {\"outcomeType\": 1, \"valueTowardsCompletion\": 0.05, \"interactionType\": 1, \"questionType\": 1, \"questionId\": \"5_Exercise5\", \"failureMessage\": \"\", \"exceptionClass\": \"\", \"trace\": \"\"}}, \"*\")",
      "text/plain": [
       "<IPython.core.display.Javascript object>"
      ]
     },
     "metadata": {},
     "output_type": "display_data"
    },
    {
     "data": {
      "text/markdown": [
       "<span style=\"color:#33cc33\">Correct</span>"
      ],
      "text/plain": [
       "Correct"
      ]
     },
     "metadata": {},
     "output_type": "display_data"
    }
   ],
   "source": [
    "def exercise_5(df) -> pd.Series:\n",
    "    copy = df.copy()\n",
    "    mean = round(copy['Sale'].mean())\n",
    "    a = copy['Sale'].fillna(mean)\n",
    "    return a\n",
    "    return NotImplementedError\n",
    "\n",
    "ex5_sol = exercise_5(df)\n",
    "q5.check()"
   ]
  },
  {
   "cell_type": "markdown",
   "metadata": {},
   "source": [
    "### Q6: How many products are there which can be identified with \"ID\"?"
   ]
  },
  {
   "cell_type": "code",
   "execution_count": 49,
   "metadata": {},
   "outputs": [
    {
     "data": {
      "application/javascript": "parent.postMessage({\"jupyterEvent\": \"custom.exercise_interaction\", \"data\": {\"outcomeType\": 1, \"valueTowardsCompletion\": 0.05, \"interactionType\": 1, \"questionType\": 1, \"questionId\": \"6_Exercise6\", \"failureMessage\": \"\", \"exceptionClass\": \"\", \"trace\": \"\"}}, \"*\")",
      "text/plain": [
       "<IPython.core.display.Javascript object>"
      ]
     },
     "metadata": {},
     "output_type": "display_data"
    },
    {
     "data": {
      "text/markdown": [
       "<span style=\"color:#33cc33\">Correct</span>"
      ],
      "text/plain": [
       "Correct"
      ]
     },
     "metadata": {},
     "output_type": "display_data"
    }
   ],
   "source": [
    "def exercise_6(df) -> int:\n",
    "    copy = df.copy()\n",
    "    a = copy['ID'].count()\n",
    "    return a\n",
    "    return NotImplementedError\n",
    "\n",
    "ex6_sol = exercise_6(df)\n",
    "q6.check()"
   ]
  },
  {
   "cell_type": "markdown",
   "metadata": {},
   "source": [
    "## Instructions for dataset 2\n",
    "Get your data at [https://raw.githubusercontent.com/guipsamora/pandas_exercises/master/04_Apply/US_Crime_Rates/US_Crime_Rates_1960_2014.csv](https://raw.githubusercontent.com/guipsamora/pandas_exercises/master/04_Apply/US_Crime_Rates/US_Crime_Rates_1960_2014.csv) and change the path to your downloaded file. Store it as a `Dataframe` in a variable for your answers later."
   ]
  },
  {
   "cell_type": "code",
   "execution_count": 50,
   "metadata": {},
   "outputs": [],
   "source": [
    "# reading and storing in this cell\n",
    "df = pd.read_csv('https://raw.githubusercontent.com/guipsamora/pandas_exercises/master/04_Apply/US_Crime_Rates/US_Crime_Rates_1960_2014.csv')"
   ]
  },
  {
   "cell_type": "markdown",
   "metadata": {},
   "source": [
    "## Questions"
   ]
  },
  {
   "cell_type": "markdown",
   "metadata": {},
   "source": [
    "### Q7: How many years of crime data are collected in the dataset? (The crime data has been collected in a span of ? years)"
   ]
  },
  {
   "cell_type": "code",
   "execution_count": 51,
   "metadata": {},
   "outputs": [
    {
     "data": {
      "application/javascript": "parent.postMessage({\"jupyterEvent\": \"custom.exercise_interaction\", \"data\": {\"outcomeType\": 1, \"valueTowardsCompletion\": 0.05, \"interactionType\": 1, \"questionType\": 1, \"questionId\": \"7_Exercise7\", \"failureMessage\": \"\", \"exceptionClass\": \"\", \"trace\": \"\"}}, \"*\")",
      "text/plain": [
       "<IPython.core.display.Javascript object>"
      ]
     },
     "metadata": {},
     "output_type": "display_data"
    },
    {
     "data": {
      "text/markdown": [
       "<span style=\"color:#33cc33\">Correct</span>"
      ],
      "text/plain": [
       "Correct"
      ]
     },
     "metadata": {},
     "output_type": "display_data"
    }
   ],
   "source": [
    "def exercise_7(df) -> int:\n",
    "    copy = df.copy()\n",
    "    a = copy['Year'].count()\n",
    "    return a\n",
    "    return NotImplementedError\n",
    "\n",
    "ex7_sol = exercise_7(df)\n",
    "q7.check()"
   ]
  },
  {
   "cell_type": "markdown",
   "metadata": {},
   "source": [
    "### Q8: Find the year with the highest number of property crimes."
   ]
  },
  {
   "cell_type": "code",
   "execution_count": 52,
   "metadata": {},
   "outputs": [
    {
     "data": {
      "application/javascript": "parent.postMessage({\"jupyterEvent\": \"custom.exercise_interaction\", \"data\": {\"outcomeType\": 1, \"valueTowardsCompletion\": 0.05, \"interactionType\": 1, \"questionType\": 1, \"questionId\": \"8_Exercise8\", \"failureMessage\": \"\", \"exceptionClass\": \"\", \"trace\": \"\"}}, \"*\")",
      "text/plain": [
       "<IPython.core.display.Javascript object>"
      ]
     },
     "metadata": {},
     "output_type": "display_data"
    },
    {
     "data": {
      "text/markdown": [
       "<span style=\"color:#33cc33\">Correct</span>"
      ],
      "text/plain": [
       "Correct"
      ]
     },
     "metadata": {},
     "output_type": "display_data"
    }
   ],
   "source": [
    "def exercise_8(df) -> int:\n",
    "    copy = df.copy()\n",
    "    a = copy['Year'].loc[copy[\"Property\"].idxmax()]\n",
    "    return a\n",
    "    return NotImplementedError\n",
    "\n",
    "ex8_sol = exercise_8(df)\n",
    "q8.check()"
   ]
  },
  {
   "cell_type": "markdown",
   "metadata": {},
   "source": [
    "### Q9: Convert the column Year to type datetime64 and set it as the index column of the DataFrame."
   ]
  },
  {
   "cell_type": "markdown",
   "metadata": {},
   "source": [
    "This question cannot be tested currently using `leartools`, hence the `q9.check()` always ouput as `correct`. Make sure your code works by yourself before submitting to Github."
   ]
  },
  {
   "cell_type": "code",
   "execution_count": 53,
   "metadata": {},
   "outputs": [
    {
     "name": "stdout",
     "output_type": "stream",
     "text": [
      "The answer for this question is undetermined, use the online test instead.\n"
     ]
    },
    {
     "data": {
      "application/javascript": "parent.postMessage({\"jupyterEvent\": \"custom.exercise_interaction\", \"data\": {\"outcomeType\": 1, \"valueTowardsCompletion\": 0.05, \"interactionType\": 1, \"questionType\": 1, \"questionId\": \"9_Exercise9\", \"failureMessage\": \"\", \"exceptionClass\": \"\", \"trace\": \"\"}}, \"*\")",
      "text/plain": [
       "<IPython.core.display.Javascript object>"
      ]
     },
     "metadata": {},
     "output_type": "display_data"
    },
    {
     "data": {
      "text/markdown": [
       "<span style=\"color:#33cc33\">Correct</span>"
      ],
      "text/plain": [
       "Correct"
      ]
     },
     "metadata": {},
     "output_type": "display_data"
    }
   ],
   "source": [
    "def exercise_9(df) -> pd.DataFrame:\n",
    "    copy = df.copy()\n",
    "    a = copy.astype({'Year': 'datetime64[ns]'}).dtypes\n",
    "    return NotImplementedError\n",
    "\n",
    "ex9_sol = exercise_9(df)\n",
    "q9.check()"
   ]
  },
  {
   "cell_type": "markdown",
   "metadata": {},
   "source": [
    "### Q10: Delete any column having \"theft\" in its name (case insensitive). Show the first 10 rows."
   ]
  },
  {
   "cell_type": "code",
   "execution_count": 54,
   "metadata": {},
   "outputs": [
    {
     "data": {
      "application/javascript": "parent.postMessage({\"jupyterEvent\": \"custom.exercise_interaction\", \"data\": {\"outcomeType\": 1, \"valueTowardsCompletion\": 0.05, \"interactionType\": 1, \"questionType\": 1, \"questionId\": \"10_Exercise10\", \"failureMessage\": \"\", \"exceptionClass\": \"\", \"trace\": \"\"}}, \"*\")",
      "text/plain": [
       "<IPython.core.display.Javascript object>"
      ]
     },
     "metadata": {},
     "output_type": "display_data"
    },
    {
     "data": {
      "text/markdown": [
       "<span style=\"color:#33cc33\">Correct</span>"
      ],
      "text/plain": [
       "Correct"
      ]
     },
     "metadata": {},
     "output_type": "display_data"
    }
   ],
   "source": [
    "def exercise_10(df) -> pd.DataFrame:\n",
    "    copy = df.copy()\n",
    "    a = copy.columns.str.contains('theft', case = False)\n",
    "    a = copy.loc[:, ~a]\n",
    "    return a.head(10)\n",
    "    \n",
    "\n",
    "ex10_sol = exercise_10(df)\n",
    "q10.check()"
   ]
  },
  {
   "cell_type": "markdown",
   "metadata": {},
   "source": [
    "### Q11: Find the year with the largest percentage increase in total crimes compared to the previous year."
   ]
  },
  {
   "cell_type": "code",
   "execution_count": 55,
   "metadata": {},
   "outputs": [
    {
     "data": {
      "application/javascript": "parent.postMessage({\"jupyterEvent\": \"custom.exercise_interaction\", \"data\": {\"outcomeType\": 1, \"valueTowardsCompletion\": 0.05, \"interactionType\": 1, \"questionType\": 1, \"questionId\": \"11_Exercise11\", \"failureMessage\": \"\", \"exceptionClass\": \"\", \"trace\": \"\"}}, \"*\")",
      "text/plain": [
       "<IPython.core.display.Javascript object>"
      ]
     },
     "metadata": {},
     "output_type": "display_data"
    },
    {
     "data": {
      "text/markdown": [
       "<span style=\"color:#33cc33\">Correct</span>"
      ],
      "text/plain": [
       "Correct"
      ]
     },
     "metadata": {},
     "output_type": "display_data"
    }
   ],
   "source": [
    "def exercise_11(df) -> int:\n",
    "    copy = df.copy()\n",
    "    a = copy['Year'].loc[copy['Total'].pct_change().idxmax()]\n",
    "    return a\n",
    "    return NotImplementedError\n",
    "\n",
    "ex11_sol = exercise_11(df)\n",
    "q11.check()"
   ]
  },
  {
   "cell_type": "markdown",
   "metadata": {},
   "source": [
    "**Note**: percentage change of 2 numbers A comparing to B is ((A-B)/A) * 100"
   ]
  },
  {
   "cell_type": "markdown",
   "metadata": {},
   "source": [
    "### Q12: Calculate the percentage change in robbery crimes from 1960 to 2014. Round it to the nearest 2 decimal places. "
   ]
  },
  {
   "cell_type": "code",
   "execution_count": 56,
   "metadata": {},
   "outputs": [
    {
     "data": {
      "application/javascript": "parent.postMessage({\"jupyterEvent\": \"custom.exercise_interaction\", \"data\": {\"outcomeType\": 1, \"valueTowardsCompletion\": 0.05, \"interactionType\": 1, \"questionType\": 1, \"questionId\": \"12_Exercise12\", \"failureMessage\": \"\", \"exceptionClass\": \"\", \"trace\": \"\"}}, \"*\")",
      "text/plain": [
       "<IPython.core.display.Javascript object>"
      ]
     },
     "metadata": {},
     "output_type": "display_data"
    },
    {
     "data": {
      "text/markdown": [
       "<span style=\"color:#33cc33\">Correct</span>"
      ],
      "text/plain": [
       "Correct"
      ]
     },
     "metadata": {},
     "output_type": "display_data"
    }
   ],
   "source": [
    "def exercise_12(df) -> float:\n",
    "    copy = df.copy()\n",
    "    crime_1960 = copy.loc[copy['Year'] == 1960, 'Robbery'].iloc[0]\n",
    "    crime_2014 = copy.loc[copy['Year'] == 2014, 'Robbery'].iloc[0]\n",
    "    a = round((crime_2014 - crime_1960)/(crime_1960)*100, 2)\n",
    "    return a\n",
    "    return NotImplementedError\n",
    "\n",
    "ex12_sol = exercise_12(df)\n",
    "q12.check()"
   ]
  },
  {
   "cell_type": "markdown",
   "metadata": {},
   "source": [
    "## Instructions for dataset 3\n",
    "Get your data at [https://drive.google.com/file/d/1a63cns5w2gOTITIGHy3aipRHua9XJmgz/view](https://drive.google.com/file/d/1a63cns5w2gOTITIGHy3aipRHua9XJmgz/view), which is a subset of the Kaggle Open Food Facts Dataset, and change the path to your downloaded file. Store it as a `Dataframe` in a variable for your answers later. Loading a dataset this large could generate a warning regarding the `dtype` of some columns. Set the option `low_memory=False` to suppress the warning. Ensure the \"code\" column is your index column and has type `str`. "
   ]
  },
  {
   "cell_type": "code",
   "execution_count": 57,
   "metadata": {},
   "outputs": [],
   "source": [
    "# reading and storing in this cell\n",
    "df = pd.read_csv('/workspaces/lab-2-pandas-ThanhDat4250/Dataframe/open-food-facts.csv', low_memory=False) \n",
    "# remember to comment out or delete the code reading the dataset before pushing"
   ]
  },
  {
   "cell_type": "markdown",
   "metadata": {},
   "source": [
    "## Questions"
   ]
  },
  {
   "cell_type": "markdown",
   "metadata": {},
   "source": [
    "### Q13: How many unique products are available in the dataset?"
   ]
  },
  {
   "cell_type": "code",
   "execution_count": 58,
   "metadata": {},
   "outputs": [
    {
     "data": {
      "application/javascript": "parent.postMessage({\"jupyterEvent\": \"custom.exercise_interaction\", \"data\": {\"outcomeType\": 1, \"valueTowardsCompletion\": 0.05, \"interactionType\": 1, \"questionType\": 1, \"questionId\": \"13_Exercise13\", \"failureMessage\": \"\", \"exceptionClass\": \"\", \"trace\": \"\"}}, \"*\")",
      "text/plain": [
       "<IPython.core.display.Javascript object>"
      ]
     },
     "metadata": {},
     "output_type": "display_data"
    },
    {
     "data": {
      "text/markdown": [
       "<span style=\"color:#33cc33\">Correct</span>"
      ],
      "text/plain": [
       "Correct"
      ]
     },
     "metadata": {},
     "output_type": "display_data"
    }
   ],
   "source": [
    "def exercise_13(df) -> int:\n",
    "    copy = df.copy()\n",
    "    a = copy['product_name'].nunique()\n",
    "    return a\n",
    "    return NotImplementedError\n",
    "\n",
    "ex13_sol = exercise_13(df)\n",
    "q13.check()"
   ]
  },
  {
   "cell_type": "markdown",
   "metadata": {},
   "source": [
    "### Q14: Find the percentage of missing values in each column. Round your results to the nearest 2 decimal places."
   ]
  },
  {
   "cell_type": "code",
   "execution_count": 59,
   "metadata": {},
   "outputs": [
    {
     "data": {
      "application/javascript": "parent.postMessage({\"jupyterEvent\": \"custom.exercise_interaction\", \"data\": {\"outcomeType\": 2, \"failureMessage\": \"Expected `ex14_sol` to have length 162 but was actually 163\", \"interactionType\": 1, \"questionType\": 1, \"questionId\": \"14_Exercise14\", \"valueTowardsCompletion\": 0.0, \"exceptionClass\": \"\", \"trace\": \"\"}}, \"*\")",
      "text/plain": [
       "<IPython.core.display.Javascript object>"
      ]
     },
     "metadata": {},
     "output_type": "display_data"
    },
    {
     "data": {
      "text/markdown": [
       "<span style=\"color:#cc3333\">Incorrect:</span> Expected `ex14_sol` to have length 162 but was actually 163"
      ],
      "text/plain": [
       "Incorrect: Expected `ex14_sol` to have length 162 but was actually 163"
      ]
     },
     "metadata": {},
     "output_type": "display_data"
    }
   ],
   "source": [
    "def exercise_14(df) -> pd.Series:\n",
    "    copy = df.copy()\n",
    "    a = round(copy.isna().mean() *100, 2)\n",
    "    return a\n",
    "    return NotImplementedError\n",
    "\n",
    "ex14_sol = exercise_14(df)\n",
    "q14.check()"
   ]
  },
  {
   "cell_type": "markdown",
   "metadata": {},
   "source": [
    "### Q15: Identify the top 5 manufacturers (\"brands\") based on the number of unique products."
   ]
  },
  {
   "cell_type": "code",
   "execution_count": 60,
   "metadata": {},
   "outputs": [
    {
     "data": {
      "application/javascript": "parent.postMessage({\"jupyterEvent\": \"custom.exercise_interaction\", \"data\": {\"outcomeType\": 1, \"valueTowardsCompletion\": 0.05, \"interactionType\": 1, \"questionType\": 1, \"questionId\": \"15_Exercise15\", \"failureMessage\": \"\", \"exceptionClass\": \"\", \"trace\": \"\"}}, \"*\")",
      "text/plain": [
       "<IPython.core.display.Javascript object>"
      ]
     },
     "metadata": {},
     "output_type": "display_data"
    },
    {
     "data": {
      "text/markdown": [
       "<span style=\"color:#33cc33\">Correct</span>"
      ],
      "text/plain": [
       "Correct"
      ]
     },
     "metadata": {},
     "output_type": "display_data"
    }
   ],
   "source": [
    "def exercise_15(df) -> pd.Series:\n",
    "    copy = df.copy()\n",
    "    a = copy.groupby('brands')['product_name'].nunique().sort_values(ascending=False).head(5)\n",
    "    return a\n",
    "    return NotImplementedError\n",
    "\n",
    "ex15_sol = exercise_15(df)\n",
    "q15.check()"
   ]
  },
  {
   "cell_type": "markdown",
   "metadata": {},
   "source": [
    "### Q16: Find the most common food additives used in products across all countries."
   ]
  },
  {
   "cell_type": "code",
   "execution_count": 61,
   "metadata": {},
   "outputs": [
    {
     "data": {
      "application/javascript": "parent.postMessage({\"jupyterEvent\": \"custom.exercise_interaction\", \"data\": {\"outcomeType\": 1, \"valueTowardsCompletion\": 0.05, \"interactionType\": 1, \"questionType\": 1, \"questionId\": \"16_Exercise16\", \"failureMessage\": \"\", \"exceptionClass\": \"\", \"trace\": \"\"}}, \"*\")",
      "text/plain": [
       "<IPython.core.display.Javascript object>"
      ]
     },
     "metadata": {},
     "output_type": "display_data"
    },
    {
     "data": {
      "text/markdown": [
       "<span style=\"color:#33cc33\">Correct</span>"
      ],
      "text/plain": [
       "Correct"
      ]
     },
     "metadata": {},
     "output_type": "display_data"
    }
   ],
   "source": [
    "def exercise_16(df) -> pd.Series:\n",
    "    copy = df.copy()\n",
    "    additives = (\n",
    "        copy['additives'].dropna()\n",
    "        .str.replace(r'\\[|\\]', '', regex=True)  # Remove brackets\n",
    "        .str.split(r'/s*->/s*en:\\w+', regex=True)  # Split at \"-> en:...\" codes\n",
    "        .str[0]  # Keep only the additive name part\n",
    "        .str.split(',/s*')  # Split entries separated by commas\n",
    "        .explode()  # Create one row per additive\n",
    "        .str.strip()  # Clean whitespace\n",
    "        .str.lower()  # Normalize case\n",
    "    )\n",
    "    return (additives[additives != ''].value_counts().head(10))\n",
    "\n",
    "ex16_sol = exercise_16(df)\n",
    "q16.check()"
   ]
  },
  {
   "cell_type": "markdown",
   "metadata": {},
   "source": [
    "### Q17: Calculate the average \"saturated-fat_100g\" of all products containing \"palm oil\" and all products that don't. Return a DataFrame with 2 columns \"contains_palm_oil\" and \"no_palm_oil\" listing your results. Round your result to the nearest 2 decimal places."
   ]
  },
  {
   "cell_type": "code",
   "execution_count": 62,
   "metadata": {},
   "outputs": [
    {
     "data": {
      "application/javascript": "parent.postMessage({\"jupyterEvent\": \"custom.exercise_interaction\", \"data\": {\"outcomeType\": 1, \"valueTowardsCompletion\": 0.05, \"interactionType\": 1, \"questionType\": 1, \"questionId\": \"17_Exercise17\", \"failureMessage\": \"\", \"exceptionClass\": \"\", \"trace\": \"\"}}, \"*\")",
      "text/plain": [
       "<IPython.core.display.Javascript object>"
      ]
     },
     "metadata": {},
     "output_type": "display_data"
    },
    {
     "data": {
      "text/markdown": [
       "<span style=\"color:#33cc33\">Correct</span>"
      ],
      "text/plain": [
       "Correct"
      ]
     },
     "metadata": {},
     "output_type": "display_data"
    }
   ],
   "source": [
    "def exercise_17(df) -> pd.DataFrame:\n",
    "    copy = df.copy()\n",
    "    a = copy['ingredients_text'].str.contains('palm oil', case = False, na = False)\n",
    "    b = copy.loc[a, 'saturated-fat_100g'].mean()\n",
    "    c = copy.loc[~a, 'saturated-fat_100g'].mean()\n",
    "    d = pd.DataFrame({'contains_palm_oil': [round(b, 2)], 'no_palm_oil': [round(c, 2)]})\n",
    "    return d\n",
    "    return NotImplementedError\n",
    "\n",
    "ex17_sol = exercise_17(df)\n",
    "q17.check()"
   ]
  },
  {
   "cell_type": "markdown",
   "metadata": {},
   "source": [
    "### Q18: Create a pivot table showing the average carbohydrate content ('carbohydrates_100g') for each food category across different countries."
   ]
  },
  {
   "cell_type": "markdown",
   "metadata": {},
   "source": [
    "This question cannot be tested currently using `leartools`, hence the `q18.check()` always ouput as `correct`. Make sure your code works by yourself before submitting to Github."
   ]
  },
  {
   "cell_type": "code",
   "execution_count": 63,
   "metadata": {},
   "outputs": [
    {
     "name": "stdout",
     "output_type": "stream",
     "text": [
      "The answer for this question is undetermined, use the online test instead.\n"
     ]
    },
    {
     "data": {
      "application/javascript": "parent.postMessage({\"jupyterEvent\": \"custom.exercise_interaction\", \"data\": {\"outcomeType\": 1, \"valueTowardsCompletion\": 0.05, \"interactionType\": 1, \"questionType\": 1, \"questionId\": \"18_Exercise18\", \"failureMessage\": \"\", \"exceptionClass\": \"\", \"trace\": \"\"}}, \"*\")",
      "text/plain": [
       "<IPython.core.display.Javascript object>"
      ]
     },
     "metadata": {},
     "output_type": "display_data"
    },
    {
     "data": {
      "text/markdown": [
       "<span style=\"color:#33cc33\">Correct</span>"
      ],
      "text/plain": [
       "Correct"
      ]
     },
     "metadata": {},
     "output_type": "display_data"
    }
   ],
   "source": [
    "def exercise_18(df) -> pd.DataFrame:\n",
    "    copy = df.copy()\n",
    "    a = pd.pivot_table(copy, columns = 'countries', values = 'carbohydrates_100g', index = 'categories', aggfunc = 'mean')\n",
    "    return a\n",
    "    return NotImplementedError\n",
    "\n",
    "ex18_sol = exercise_18(df)\n",
    "q18.check()"
   ]
  },
  {
   "cell_type": "markdown",
   "metadata": {},
   "source": [
    "### Q19: Compare the average sodium levels ('sodium_100g') between processed and non-processed foods. Processed foods are those with \"categories\" matching one or more in the list given below. Round your results to the nearest 3 decimal places."
   ]
  },
  {
   "cell_type": "code",
   "execution_count": 64,
   "metadata": {},
   "outputs": [
    {
     "data": {
      "application/javascript": "parent.postMessage({\"jupyterEvent\": \"custom.exercise_interaction\", \"data\": {\"outcomeType\": 1, \"valueTowardsCompletion\": 0.05, \"interactionType\": 1, \"questionType\": 1, \"questionId\": \"19_Exercise19\", \"failureMessage\": \"\", \"exceptionClass\": \"\", \"trace\": \"\"}}, \"*\")",
      "text/plain": [
       "<IPython.core.display.Javascript object>"
      ]
     },
     "metadata": {},
     "output_type": "display_data"
    },
    {
     "data": {
      "text/markdown": [
       "<span style=\"color:#33cc33\">Correct</span>"
      ],
      "text/plain": [
       "Correct"
      ]
     },
     "metadata": {},
     "output_type": "display_data"
    }
   ],
   "source": [
    "processed_keywords = ['snack', 'fast food', 'ready meal', 'processed', 'canned', 'packaged']\n",
    "\n",
    "def exercise_19(df, processed_keywords) -> tuple:\n",
    "    copy = df.copy()\n",
    "\n",
    "    a = '|'.join(processed_keywords)\n",
    "    b = copy[copy['categories'].str.contains(a, case = False, na = False)]\n",
    "    c = copy[~copy['categories'].str.contains(a, case = False, na = False)]\n",
    "    d = round(b['sodium_100g'].mean(),3)\n",
    "    e = round(c['sodium_100g'].mean(),3)\n",
    "    return(e, d)\n",
    "    return NotImplementedError\n",
    "\n",
    "ex19_sol = exercise_19(df, processed_keywords) # Your output should be(Non-Processed result, Processed result)\n",
    "q19.check()"
   ]
  },
  {
   "cell_type": "markdown",
   "metadata": {},
   "source": [
    "### Q20: Extract the first ingredient from the 'ingredients_text' for each row. NaN values should be saved as 'Unknown'. Show the first 100 values."
   ]
  },
  {
   "cell_type": "code",
   "execution_count": 65,
   "metadata": {},
   "outputs": [
    {
     "data": {
      "application/javascript": "parent.postMessage({\"jupyterEvent\": \"custom.exercise_interaction\", \"data\": {\"outcomeType\": 1, \"valueTowardsCompletion\": 0.05, \"interactionType\": 1, \"questionType\": 1, \"questionId\": \"20_Exercise20\", \"failureMessage\": \"\", \"exceptionClass\": \"\", \"trace\": \"\"}}, \"*\")",
      "text/plain": [
       "<IPython.core.display.Javascript object>"
      ]
     },
     "metadata": {},
     "output_type": "display_data"
    },
    {
     "data": {
      "text/markdown": [
       "<span style=\"color:#33cc33\">Correct</span>"
      ],
      "text/plain": [
       "Correct"
      ]
     },
     "metadata": {},
     "output_type": "display_data"
    }
   ],
   "source": [
    "def exercise_20(df) -> pd.Series:\n",
    "    copy = df.copy()\n",
    "    a = copy['ingredients_text'].str.split(',', n=1, expand=True)[0].str.strip().fillna('Unknown').head(100)\n",
    "    return a\n",
    "    return NotImplementedError\n",
    "\n",
    "ex20_sol = exercise_20(df)\n",
    "q20.check()"
   ]
  }
 ],
 "metadata": {
  "kernelspec": {
   "display_name": "Python 3",
   "language": "python",
   "name": "python3"
  },
  "language_info": {
   "codemirror_mode": {
    "name": "ipython",
    "version": 3
   },
   "file_extension": ".py",
   "mimetype": "text/x-python",
   "name": "python",
   "nbconvert_exporter": "python",
   "pygments_lexer": "ipython3",
   "version": "3.12.1"
  }
 },
 "nbformat": 4,
 "nbformat_minor": 2
}
